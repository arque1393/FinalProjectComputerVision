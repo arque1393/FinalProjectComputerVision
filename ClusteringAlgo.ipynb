{
  "nbformat": 4,
  "nbformat_minor": 0,
  "metadata": {
    "colab": {
      "private_outputs": true,
      "provenance": [],
      "authorship_tag": "ABX9TyMZav+SrG4Q4tWCpLcrsLIs",
      "include_colab_link": true
    },
    "kernelspec": {
      "name": "python3",
      "display_name": "Python 3"
    },
    "language_info": {
      "name": "python"
    }
  },
  "cells": [
    {
      "cell_type": "markdown",
      "metadata": {
        "id": "view-in-github",
        "colab_type": "text"
      },
      "source": [
        "<a href=\"https://colab.research.google.com/github/arque1393/FinalProjectComputerVision/blob/main/ClusteringAlgo.ipynb\" target=\"_parent\"><img src=\"https://colab.research.google.com/assets/colab-badge.svg\" alt=\"Open In Colab\"/></a>"
      ]
    },
    {
      "cell_type": "code",
      "execution_count": null,
      "metadata": {
        "id": "cOWgoHM_b62z"
      },
      "outputs": [],
      "source": [
        "from array import array\n",
        "import plotly.express as px\n",
        "from math import inf   \n",
        "import random  "
      ]
    },
    {
      "cell_type": "code",
      "source": [
        "def euclidean_dist(v1, v2):\n",
        "    if len(v1)!=len(v2) :\n",
        "        raise Exception(\"Error : Vector Dimention does not match\")\n",
        "    dist = 0\n",
        "    for i in range(len(v1)):\n",
        "        dist+=(v1[i]-v2[i])**2\n",
        "    return dist**.5\n",
        "euclidean_dist([1,2,3],[2,0,-5])\n"
      ],
      "metadata": {
        "id": "FehIzqoKcEuO"
      },
      "execution_count": null,
      "outputs": []
    },
    {
      "cell_type": "code",
      "source": [
        "class KMeansCluster(object):\n",
        "    def __init__(self, k:int, *argc, **argv):\n",
        "        self.k = k\n",
        "        self.clusters = {f'cluster{i}':[] for i in range(self.k)}\n",
        "        self.centroids = {f'cluster{i}':None for i in range(self.k)}      \n",
        "    def __calculate_centroid(self,features):\n",
        "        n=len(features[0])\n",
        "        c = array('f',[0 for i in range(n)])\n",
        "        l = list(zip(*features))\n",
        "        for i in range(len(l)):\n",
        "            c[i]=sum(l[i])/len(features)\n",
        "        return c \n",
        "    def __iteration(self,features:list)->dict:\n",
        "        clusters={f'cluster{i}':[] for i in range(self.k)}\n",
        "        centroids={}\n",
        "        for i in range(len(features)):\n",
        "            dist = inf;index:str='';            \n",
        "            for j in self.clusters:\n",
        "                d = euclidean_dist(features[i],self.centroids[j])\n",
        "                if d<dist:\n",
        "                    dist=d;index = j\n",
        "            clusters[index].append(features[i])     \n",
        "        self.clusters = clusters\n",
        "        for i in self.clusters:\n",
        "            centroids[i]=self.__calculate_centroid(self.clusters[i])\n",
        "        \n",
        "        return centroids\n",
        "    def __internal_mean_distance(self):\n",
        "        d=0\n",
        "        for clusterName in self.clusters:\n",
        "            d2=0\n",
        "            for i in self.clusters[clusterName]:\n",
        "                d2+= euclidean_dist(i,self.centroids[clusterName])\n",
        "            d+= d2/len(self.clusters[clusterName])\n",
        "        return d/self.k\n",
        "\n",
        "    def __external_mean_distance(self):\n",
        "        d=0\n",
        "        for i in self.clusters:\n",
        "            d1 = 0\n",
        "            for j in self.clusters:\n",
        "                if i!=j:\n",
        "                    d1+=euclidean_dist(self.centroids[i],self.centroids[j])\n",
        "            d+= d1/(self.k-1)\n",
        "        return d/self.k\n",
        "    def __is_equal_vectors(self,v1,v2):\n",
        "        return list(v1)==list(v2)\n",
        "\n",
        "    def fit(self, features:list):\n",
        "\n",
        "        external_mean_distance = []\n",
        "        internal_mean_distance = []\n",
        "        iter_no = 0\n",
        "        sample = random.sample(features,self.k)\n",
        "        curr_centroids = {f'cluster{i}':sample[i] for i in range(self.k)}         \n",
        "        while not self.__is_equal_vectors(curr_centroids.values(), \n",
        "                                      self.centroids.values()):\n",
        "            print(\"Iteration :%d\"%iter_no)\n",
        "            self.centroids = curr_centroids\n",
        "            curr_centroids= self.__iteration(features)\n",
        "            external_mean_distance.append(self.__external_mean_distance())\n",
        "            internal_mean_distance.append(self.__internal_mean_distance())            \n",
        "            iter_no+=1\n",
        "\n",
        "        return (external_mean_distance,internal_mean_distance)\n"
      ],
      "metadata": {
        "id": "a6C2T_9Kdc6k"
      },
      "execution_count": null,
      "outputs": []
    },
    {
      "cell_type": "code",
      "source": [
        "model = KMeansCluster(3)"
      ],
      "metadata": {
        "id": "lq-1RyKFS_bn"
      },
      "execution_count": null,
      "outputs": []
    },
    {
      "cell_type": "markdown",
      "source": [
        "### Creating Datasets"
      ],
      "metadata": {
        "id": "4hXisZ3aXxBk"
      }
    },
    {
      "cell_type": "code",
      "source": [
        "data = [\n",
        "    [1,0],[1,1],[2,1],[0,-1],[100,20],[102,19],[101,20],[25,21],[6,21],[23,25],[25,87],[0,-8],[2,6],[8,92],[10,-2],[1,11],[15,12],[21,29],[5,7]\n",
        "\n",
        "        \n",
        "]"
      ],
      "metadata": {
        "id": "EEcnzQk2S_eK"
      },
      "execution_count": null,
      "outputs": []
    },
    {
      "cell_type": "code",
      "source": [
        "\n",
        "model.fit(data)"
      ],
      "metadata": {
        "id": "DnWQDsyoS_gT"
      },
      "execution_count": null,
      "outputs": []
    },
    {
      "cell_type": "code",
      "source": [],
      "metadata": {
        "id": "WrN1Fev6j8iI"
      },
      "execution_count": null,
      "outputs": []
    }
  ]
}